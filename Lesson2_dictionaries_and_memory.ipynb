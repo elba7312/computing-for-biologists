{
 "metadata": {
  "name": ""
 },
 "nbformat": 3,
 "nbformat_minor": 0,
 "worksheets": [
  {
   "cells": [
    {
     "cell_type": "markdown",
     "metadata": {},
     "source": [
      "# Dictionaries and memory\n",
      "\n",
      "I am afraid that I didn't write exercise 2.8 specifically enough, and people solved it in a range of creative ways, beyond what I intended. I am going to walk you throut it, and show what I expected to happen and why.\n",
      "\n",
      "First, we start with two dictionaries:"
     ]
    },
    {
     "cell_type": "code",
     "collapsed": false,
     "input": [
      "inventory = {'gold' : 150, 'sword' : True}\n",
      "food = {'apples' : 3, 'carrots' : 2, 'pizza' :1}\n",
      "inventory['food'] = food\n",
      "print inventory\n",
      "print food"
     ],
     "language": "python",
     "metadata": {},
     "outputs": [
      {
       "output_type": "stream",
       "stream": "stdout",
       "text": [
        "{'food': {'carrots': 2, 'apples': 3, 'pizza': 1}, 'sword': True, 'gold': 150}\n"
       ]
      }
     ],
     "prompt_number": 2
    },
    {
     "cell_type": "markdown",
     "metadata": {},
     "source": [
      "So, how many dictionaries are there? You could imagine there are three, ```inventory```, the original ```food``` and the new ```dictionary['food']```. Here is where manipulating one of the dictionaries produces an important insight:"
     ]
    },
    {
     "cell_type": "code",
     "collapsed": false,
     "input": [
      "food['apples']+=1\n",
      "print inventory\n",
      "print food"
     ],
     "language": "python",
     "metadata": {},
     "outputs": [
      {
       "output_type": "stream",
       "stream": "stdout",
       "text": [
        "{'food': {'carrots': 2, 'apples': 4, 'pizza': 1}, 'sword': True, 'gold': 150}\n",
        "{'carrots': 2, 'apples': 4, 'pizza': 1}\n"
       ]
      }
     ],
     "prompt_number": 3
    },
    {
     "cell_type": "markdown",
     "metadata": {},
     "source": [
      "As you see, the number of apples increased in *both* the original ```food``` and in ```dictionary[food]```. Why is that? \n",
      "\n",
      "To understand what is going on, you need to understand what a dictionary key is. A key merely points to a location in memory where a data structure is stored. So, ```inventory['newname'] = food``` creates a key *newname* that points to the location of a previously existing data structure we call *food*. \n",
      "\n",
      "Notice that if you do something like ```inventory['newname'] = {'apples' : 3, 'carrots' : 2, 'pizza' :1}``` you have made a **copy** of the contents of food, which is initialized within *inventory* from scratch. The *newname* key has nothing to do with the old dictionary. The reason for this behavior is that data structures can be quite large, and copying each one can consume a lot of memory.\n",
      "\n",
      "We can try the same sort of thing with lists:"
     ]
    },
    {
     "cell_type": "code",
     "collapsed": false,
     "input": [
      "myList = [1,2,3]\n",
      "newList = [4,5,6]\n",
      "myList.append(newList)\n",
      "print myList"
     ],
     "language": "python",
     "metadata": {},
     "outputs": [
      {
       "output_type": "stream",
       "stream": "stdout",
       "text": [
        "[1, 2, 3, [4, 5, 6]]\n"
       ]
      }
     ],
     "prompt_number": 5
    },
    {
     "cell_type": "code",
     "collapsed": false,
     "input": [
      "newList[2] = \"*\"\n",
      "print myList"
     ],
     "language": "python",
     "metadata": {},
     "outputs": [
      {
       "output_type": "stream",
       "stream": "stdout",
       "text": [
        "[1, 2, 3, [4, 5, '*']]\n"
       ]
      }
     ],
     "prompt_number": 6
    },
    {
     "cell_type": "markdown",
     "metadata": {},
     "source": [
      "Lists are data structures, so the list index basically points to an actual place in the computer's memory where this particular list index is found.\n",
      "\n",
      "What about variablies?"
     ]
    },
    {
     "cell_type": "code",
     "collapsed": false,
     "input": [
      "a = 1\n",
      "b = 2\n",
      "myList = [3,4,5]\n",
      "myList.append(a)\n",
      "print myList\n",
      "a+=1\n",
      "print myList"
     ],
     "language": "python",
     "metadata": {},
     "outputs": [
      {
       "output_type": "stream",
       "stream": "stdout",
       "text": [
        "[3, 4, 5, 1]\n",
        "[3, 4, 5, 1]\n"
       ]
      }
     ],
     "prompt_number": 7
    },
    {
     "cell_type": "markdown",
     "metadata": {},
     "source": [
      "Nope, variablies are copied. Why is that?\n",
      "\n",
      "Understanding how the data structures are stored are important for avoiding a very easy to make mistake when working with copies of data structures. This knowledge will also be important when we start discussing the efficiency of algorithms. If you genuinely want to make a copy, you should investigate the *copy* library."
     ]
    }
   ],
   "metadata": {}
  }
 ]
}