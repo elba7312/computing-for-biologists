{
 "metadata": {
  "name": ""
 },
 "nbformat": 3,
 "nbformat_minor": 0,
 "worksheets": [
  {
   "cells": [
    {
     "cell_type": "markdown",
     "metadata": {},
     "source": [
      "#Accessing data\n",
      "\n",
      "As a biologist, you will most likely be working with data. For this you need to be able to access data streams, manipulate them and write them back to disk. In this lesson we'll look at reading files. \n",
      "\n",
      "Before you do anything with a file, you need to open it, creating a handle object. A handle is an interator, that allows you to loop over the file's contents line by line. In this case the line contains five lines with a word and number each, with a tab character in between:\n",
      "```\n",
      "    apple   1\n",
      "    banana  2\n",
      "    cherry  3\n",
      "    guava   4\n",
      "    orange  5\n",
      "```"
     ]
    },
    {
     "cell_type": "code",
     "collapsed": false,
     "input": [
      "handle = open(\"data/fruits.txt\", \"rU\")\n",
      "print handle"
     ],
     "language": "python",
     "metadata": {},
     "outputs": [
      {
       "output_type": "stream",
       "stream": "stdout",
       "text": [
        "<open file 'data/fruits.txt', mode 'rU' at 0x103e87270>\n"
       ]
      }
     ],
     "prompt_number": 1
    },
    {
     "cell_type": "markdown",
     "metadata": {},
     "source": [
      "You can access the next line:"
     ]
    },
    {
     "cell_type": "code",
     "collapsed": false,
     "input": [
      "line = handle.next()\n",
      "line"
     ],
     "language": "python",
     "metadata": {},
     "outputs": [
      {
       "metadata": {},
       "output_type": "pyout",
       "prompt_number": 2,
       "text": [
        "'apple\\t1\\n'"
       ]
      }
     ],
     "prompt_number": 2
    },
    {
     "cell_type": "markdown",
     "metadata": {},
     "source": [
      "The line contains to elements \"apple\" and \"a\", separated by a tab character. Notice that the non-printable characters, such as the tab and newline are given by ```escape codes```.\n",
      "\n",
      "What if you want to parse the text, and say make a dictionary out of the file contents? You can use functions you already learned to do that:"
     ]
    },
    {
     "cell_type": "code",
     "collapsed": false,
     "input": [
      "mydict = {}\n",
      "for line in handle:\n",
      "    line = line.rstrip().split()\n",
      "    mydict[line[0]] = line[1]\n",
      "print mydict"
     ],
     "language": "python",
     "metadata": {},
     "outputs": [
      {
       "output_type": "stream",
       "stream": "stdout",
       "text": [
        "{'orange': '5', 'cherry': '3', 'guava': '4', 'banana': '2'}\n"
       ]
      }
     ],
     "prompt_number": 3
    },
    {
     "cell_type": "markdown",
     "metadata": {},
     "source": [
      "Notice that the file handle remembers which line you were on, and the for loop picked up at the second line. The rstrip() function gets rid of the newline character on the right, which you probably don't want.\n",
      "\n",
      "It is good practie to close the file handle when you're done with it, since open handles are a system resource. Python will close your handles when the script is done, but if you are working with many files, you can exceed the system limit for open files, and cause a crash. So, just close them when you're done if you plan to use more than a few at time."
     ]
    },
    {
     "cell_type": "code",
     "collapsed": false,
     "input": [
      "handle.close()"
     ],
     "language": "python",
     "metadata": {},
     "outputs": [],
     "prompt_number": 4
    },
    {
     "cell_type": "markdown",
     "metadata": {},
     "source": [
      "Another way of working with files, so that they are automatically closed is with a ```with``` statement:"
     ]
    },
    {
     "cell_type": "code",
     "collapsed": false,
     "input": [
      "with open(\"data/fruits.txt\") as infile:\n",
      "    for line in infile:\n",
      "        print line"
     ],
     "language": "python",
     "metadata": {},
     "outputs": [
      {
       "output_type": "stream",
       "stream": "stdout",
       "text": [
        "apple\t1\n",
        "\n",
        "banana\t2\n",
        "\n",
        "cherry\t3\n",
        "\n",
        "guava\t4\n",
        "\n",
        "orange\t5\n"
       ]
      }
     ],
     "prompt_number": 5
    },
    {
     "cell_type": "markdown",
     "metadata": {},
     "source": [
      "Once the loop is done, infile is automatically closed.\n",
      "\n",
      "You can write to a file, though you have to specify a differnt mode when you open it:"
     ]
    },
    {
     "cell_type": "code",
     "collapsed": false,
     "input": [
      "outfile = open('numbers.txt','w')\n",
      "for i in range(5):\n",
      "    outfile.write(str(i)+\"\\n\")\n",
      "outfile.close()\n",
      "\n",
      "!cat numbers.txt"
     ],
     "language": "python",
     "metadata": {},
     "outputs": [
      {
       "output_type": "stream",
       "stream": "stdout",
       "text": [
        "0\r\n",
        "1\r\n",
        "2\r\n",
        "3\r\n",
        "4\r\n"
       ]
      }
     ],
     "prompt_number": 6
    },
    {
     "cell_type": "markdown",
     "metadata": {},
     "source": [
      "The last command is an example of an IPython *magic* functions. In this case it ran a system command called *cat* on the contents of \"numbers.txt\". This is equivalent to typing ```cat numbers.txt``` from the command line. You may need to run IPython on Cygwin if you are a Windows user for this to work. Magics allow you to do some fancy stuff easily. However, they only work in IPython.\n",
      "\n",
      "## Finding files\n",
      "\n",
      "You can list find files in folders using *glob*"
     ]
    },
    {
     "cell_type": "code",
     "collapsed": false,
     "input": [
      "import glob\n",
      "\n",
      "for i in glob.glob(\"data/*\"):\n",
      "    print i    "
     ],
     "language": "python",
     "metadata": {},
     "outputs": [
      {
       "output_type": "stream",
       "stream": "stdout",
       "text": [
        "data/dna.txt\n",
        "data/fruits.txt\n",
        "data/lorem ipsum.txt\n"
       ]
      }
     ],
     "prompt_number": 7
    },
    {
     "cell_type": "markdown",
     "metadata": {},
     "source": [
      "Glob accepts wildcard characters that allow you to select specific types of files. For instance, if you only wanted to get text files, you can use ```glob.glob(\"data/*.txt\")```\n",
      "\n",
      "## Operating system functions\n",
      "\n",
      "You may be interested in interacting with files and folder (e.g., creating or deleting them) using operating system function. For that there are the **shutil** and **os** packages."
     ]
    },
    {
     "cell_type": "code",
     "collapsed": false,
     "input": [
      "import shutil\n",
      "\n",
      "shutil.copyfile(\"numbers.txt\", \"temp.txt\")\n",
      "!ls *.txt"
     ],
     "language": "python",
     "metadata": {},
     "outputs": [
      {
       "output_type": "stream",
       "stream": "stdout",
       "text": [
        "dna.txt     numbers.txt temp.txt\r\n"
       ]
      }
     ],
     "prompt_number": 8
    },
    {
     "cell_type": "code",
     "collapsed": false,
     "input": [
      "shutil.move(\"temp.txt\",\"temp2.txt\")\n",
      "!ls *.txt"
     ],
     "language": "python",
     "metadata": {},
     "outputs": [
      {
       "output_type": "stream",
       "stream": "stdout",
       "text": [
        "dna.txt     numbers.txt temp2.txt\r\n"
       ]
      }
     ],
     "prompt_number": 9
    },
    {
     "cell_type": "code",
     "collapsed": false,
     "input": [
      "import os\n",
      "os.unlink(\"temp2.txt\")\n",
      "!ls *.txt"
     ],
     "language": "python",
     "metadata": {},
     "outputs": [
      {
       "output_type": "stream",
       "stream": "stdout",
       "text": [
        "dna.txt     numbers.txt\r\n"
       ]
      }
     ],
     "prompt_number": 10
    },
    {
     "cell_type": "markdown",
     "metadata": {},
     "source": [
      "## Storing python objects using pickle\n",
      "\n",
      "What if you want to store a dictionary or other object? For that, too, there is a package. This is way of storing data is extremely useful for python scripts that need to interact across a network."
     ]
    },
    {
     "cell_type": "code",
     "collapsed": false,
     "input": [
      "import pickle\n",
      "mydict = {1:'a',2:'b'}\n",
      "with open(\"temp.pickle\",\"w\") as outfile:\n",
      "    pickle.dump(mydict,outfile)\n",
      "del mydict\n",
      "\n",
      "with open(\"temp.pickle\") as infile:\n",
      "    mydict = pickle.load(infile)\n",
      "print mydict"
     ],
     "language": "python",
     "metadata": {},
     "outputs": [
      {
       "output_type": "stream",
       "stream": "stdout",
       "text": [
        "{1: 'a', 2: 'b'}\n"
       ]
      }
     ],
     "prompt_number": 11
    },
    {
     "cell_type": "markdown",
     "metadata": {},
     "source": [
      "## Working with compressed files\n",
      "\n",
      "Oftern files, particularly sequence files are compressed, for instance, using gzip. You can open them as regular files with the **gzip** package (there are similar packages for zip and bz2 algorithms)."
     ]
    },
    {
     "cell_type": "code",
     "collapsed": false,
     "input": [
      "import gzip\n",
      "\n",
      "dna = \"TATCACCCCTAGGCCCGTTTCCCGCATATTAACGCCTGATTGTATCCGCATTTGATGCTACCGTGGTTGAGTCAGCGTCGAGCACGCGGCACTTATTGCA\"\n",
      "\n",
      "with open(\"dna.txt\",\"w\") as plainfile, gzip.open(\"dna.txt.gz\",\"w\") as zipfile:\n",
      "    plainfile.write(dna)\n",
      "    zipfile.write(dna)\n",
      "\n",
      "!ls -lh dna.*"
     ],
     "language": "python",
     "metadata": {},
     "outputs": [
      {
       "output_type": "stream",
       "stream": "stdout",
       "text": [
        "-rw-r--r--  1 sasha  staff   100B Oct  8 21:19 dna.txt\r\n",
        "-rw-r--r--  1 sasha  staff    78B Oct  8 21:19 dna.txt.gz\r\n"
       ]
      }
     ],
     "prompt_number": 12
    },
    {
     "cell_type": "markdown",
     "metadata": {},
     "source": [
      "As you can see, the gzipped file is about 20% smaller.\n",
      "\n",
      "## Exercises\n",
      "\n",
      "1. Why are is the output in [5] double-spaced? Fix the code to make it single-spaced.\n",
      "2. Read \"data/lorem ipsum.txt\". Count the number of words, sentences and paragraphs in this file.\n",
      "3. Data in \"data/dna.txt\" are in [FASTA format](http://en.wikipedia.org/wiki/FASTA_format). Read read the file, and find IDs of records with the identical sequences.\n",
      "4. Calculate the GC content of sequences in the previous exercise.\n",
      "5. Find the longest shared substring between every pair of sequences in exercise 3.\n",
      "6. Read data from \"dna.txt\" and \"dna.txt.gz\" and confirm that the sequences are identical.\n",
      "7. Remove dna.\\* form the curent working directory. *Caution* -- back up first."
     ]
    }
   ],
   "metadata": {}
  }
 ]
}